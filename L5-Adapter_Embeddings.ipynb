{
 "cells": [
  {
   "cell_type": "markdown",
   "id": "93075c79-81cf-42ec-9931-12443efaaf4b",
   "metadata": {},
   "source": [
    "# Lab 5 - Embedding Adaptors"
   ]
  },
  {
   "cell_type": "code",
   "execution_count": 1,
   "id": "5a5536f0-651c-40e7-aa15-27ee0cda80b7",
   "metadata": {
    "height": 132
   },
   "outputs": [],
   "source": [
    "from helper_utils import load_chroma, word_wrap, project_embeddings\n",
    "from chromadb.utils.embedding_functions import SentenceTransformerEmbeddingFunction\n",
    "import numpy as np\n",
    "import umap\n",
    "from tqdm import tqdm\n",
    "\n",
    "import torch"
   ]
  },
  {
   "cell_type": "code",
   "execution_count": 2,
   "id": "3748b16d-d4a7-49c3-a48a-57dcfc42acd6",
   "metadata": {
    "height": 81
   },
   "outputs": [
    {
     "data": {
      "application/vnd.jupyter.widget-view+json": {
       "model_id": "1f57009df8a3451399bf6d12c3704160",
       "version_major": 2,
       "version_minor": 0
      },
      "text/plain": [
       ".gitattributes:   0%|          | 0.00/1.23k [00:00<?, ?B/s]"
      ]
     },
     "metadata": {},
     "output_type": "display_data"
    },
    {
     "data": {
      "application/vnd.jupyter.widget-view+json": {
       "model_id": "2684551e8c06446c8801f4c9f4c1c061",
       "version_major": 2,
       "version_minor": 0
      },
      "text/plain": [
       "1_Pooling/config.json:   0%|          | 0.00/190 [00:00<?, ?B/s]"
      ]
     },
     "metadata": {},
     "output_type": "display_data"
    },
    {
     "data": {
      "application/vnd.jupyter.widget-view+json": {
       "model_id": "c90efcf34fa140dda135c3fb0ab6ac71",
       "version_major": 2,
       "version_minor": 0
      },
      "text/plain": [
       "README.md:   0%|          | 0.00/10.7k [00:00<?, ?B/s]"
      ]
     },
     "metadata": {},
     "output_type": "display_data"
    },
    {
     "data": {
      "application/vnd.jupyter.widget-view+json": {
       "model_id": "2ce0f89deeda48d8926c22febcc3cfc9",
       "version_major": 2,
       "version_minor": 0
      },
      "text/plain": [
       "config.json:   0%|          | 0.00/612 [00:00<?, ?B/s]"
      ]
     },
     "metadata": {},
     "output_type": "display_data"
    },
    {
     "data": {
      "application/vnd.jupyter.widget-view+json": {
       "model_id": "6189c8171ef744e58ad6a275052be8f6",
       "version_major": 2,
       "version_minor": 0
      },
      "text/plain": [
       "config_sentence_transformers.json:   0%|          | 0.00/116 [00:00<?, ?B/s]"
      ]
     },
     "metadata": {},
     "output_type": "display_data"
    },
    {
     "data": {
      "application/vnd.jupyter.widget-view+json": {
       "model_id": "1b1752b73239459894363757ed60839a",
       "version_major": 2,
       "version_minor": 0
      },
      "text/plain": [
       "data_config.json:   0%|          | 0.00/39.3k [00:00<?, ?B/s]"
      ]
     },
     "metadata": {},
     "output_type": "display_data"
    },
    {
     "data": {
      "application/vnd.jupyter.widget-view+json": {
       "model_id": "91bdd4b37fa2437cace656da691c3807",
       "version_major": 2,
       "version_minor": 0
      },
      "text/plain": [
       "model.safetensors:   0%|          | 0.00/90.9M [00:00<?, ?B/s]"
      ]
     },
     "metadata": {},
     "output_type": "display_data"
    },
    {
     "data": {
      "application/vnd.jupyter.widget-view+json": {
       "model_id": "57b5ae53799949c7b3f454e8ef4d6187",
       "version_major": 2,
       "version_minor": 0
      },
      "text/plain": [
       "model.onnx:   0%|          | 0.00/90.4M [00:00<?, ?B/s]"
      ]
     },
     "metadata": {},
     "output_type": "display_data"
    },
    {
     "data": {
      "application/vnd.jupyter.widget-view+json": {
       "model_id": "735e75c9c0494be99a13c034b4f96207",
       "version_major": 2,
       "version_minor": 0
      },
      "text/plain": [
       "pytorch_model.bin:   0%|          | 0.00/90.9M [00:00<?, ?B/s]"
      ]
     },
     "metadata": {},
     "output_type": "display_data"
    },
    {
     "data": {
      "application/vnd.jupyter.widget-view+json": {
       "model_id": "5cdb0a342f1f4e0e9f1b308705fc9c1e",
       "version_major": 2,
       "version_minor": 0
      },
      "text/plain": [
       "sentence_bert_config.json:   0%|          | 0.00/53.0 [00:00<?, ?B/s]"
      ]
     },
     "metadata": {},
     "output_type": "display_data"
    },
    {
     "data": {
      "application/vnd.jupyter.widget-view+json": {
       "model_id": "fc904b63fdb54984a652029e92bd0710",
       "version_major": 2,
       "version_minor": 0
      },
      "text/plain": [
       "special_tokens_map.json:   0%|          | 0.00/112 [00:00<?, ?B/s]"
      ]
     },
     "metadata": {},
     "output_type": "display_data"
    },
    {
     "data": {
      "application/vnd.jupyter.widget-view+json": {
       "model_id": "d5f0c7a799e94550b9a91da730908d4e",
       "version_major": 2,
       "version_minor": 0
      },
      "text/plain": [
       "tokenizer.json:   0%|          | 0.00/466k [00:00<?, ?B/s]"
      ]
     },
     "metadata": {},
     "output_type": "display_data"
    },
    {
     "data": {
      "application/vnd.jupyter.widget-view+json": {
       "model_id": "0314003fb6f845c69688e5c769e58168",
       "version_major": 2,
       "version_minor": 0
      },
      "text/plain": [
       "tokenizer_config.json:   0%|          | 0.00/350 [00:00<?, ?B/s]"
      ]
     },
     "metadata": {},
     "output_type": "display_data"
    },
    {
     "data": {
      "application/vnd.jupyter.widget-view+json": {
       "model_id": "b87cd07cdbbd40f68bb20c6650353365",
       "version_major": 2,
       "version_minor": 0
      },
      "text/plain": [
       "train_script.py:   0%|          | 0.00/13.2k [00:00<?, ?B/s]"
      ]
     },
     "metadata": {},
     "output_type": "display_data"
    },
    {
     "data": {
      "application/vnd.jupyter.widget-view+json": {
       "model_id": "0b92f30ac7bb4396913844043efc80cd",
       "version_major": 2,
       "version_minor": 0
      },
      "text/plain": [
       "vocab.txt:   0%|          | 0.00/232k [00:00<?, ?B/s]"
      ]
     },
     "metadata": {},
     "output_type": "display_data"
    },
    {
     "data": {
      "application/vnd.jupyter.widget-view+json": {
       "model_id": "531c827e713e4c60a79d94506bf7b5ae",
       "version_major": 2,
       "version_minor": 0
      },
      "text/plain": [
       "modules.json:   0%|          | 0.00/349 [00:00<?, ?B/s]"
      ]
     },
     "metadata": {},
     "output_type": "display_data"
    },
    {
     "data": {
      "application/vnd.jupyter.widget-view+json": {
       "model_id": "74908d6f7e214fe39ccd0c41d13fb7b4",
       "version_major": 2,
       "version_minor": 0
      },
      "text/plain": [
       ".gitattributes:   0%|          | 0.00/1.23k [00:00<?, ?B/s]"
      ]
     },
     "metadata": {},
     "output_type": "display_data"
    },
    {
     "data": {
      "application/vnd.jupyter.widget-view+json": {
       "model_id": "7d50393b73ed4a3aa9a15704e86f9568",
       "version_major": 2,
       "version_minor": 0
      },
      "text/plain": [
       "1_Pooling/config.json:   0%|          | 0.00/190 [00:00<?, ?B/s]"
      ]
     },
     "metadata": {},
     "output_type": "display_data"
    },
    {
     "data": {
      "application/vnd.jupyter.widget-view+json": {
       "model_id": "4cc18e9768284d76911a7fd741b70d64",
       "version_major": 2,
       "version_minor": 0
      },
      "text/plain": [
       "README.md:   0%|          | 0.00/10.6k [00:00<?, ?B/s]"
      ]
     },
     "metadata": {},
     "output_type": "display_data"
    },
    {
     "data": {
      "application/vnd.jupyter.widget-view+json": {
       "model_id": "45f57cb9f9f2499b9f86dd117e20a80b",
       "version_major": 2,
       "version_minor": 0
      },
      "text/plain": [
       "config.json:   0%|          | 0.00/571 [00:00<?, ?B/s]"
      ]
     },
     "metadata": {},
     "output_type": "display_data"
    },
    {
     "data": {
      "application/vnd.jupyter.widget-view+json": {
       "model_id": "c820267e01b44eb58098de8815cfd430",
       "version_major": 2,
       "version_minor": 0
      },
      "text/plain": [
       "config_sentence_transformers.json:   0%|          | 0.00/116 [00:00<?, ?B/s]"
      ]
     },
     "metadata": {},
     "output_type": "display_data"
    },
    {
     "data": {
      "application/vnd.jupyter.widget-view+json": {
       "model_id": "82faed0b8c964c2ca58a2098579668de",
       "version_major": 2,
       "version_minor": 0
      },
      "text/plain": [
       "data_config.json:   0%|          | 0.00/39.3k [00:00<?, ?B/s]"
      ]
     },
     "metadata": {},
     "output_type": "display_data"
    },
    {
     "data": {
      "application/vnd.jupyter.widget-view+json": {
       "model_id": "8f8748f10819425fb55d08a2b7ab89e8",
       "version_major": 2,
       "version_minor": 0
      },
      "text/plain": [
       "model.safetensors:   0%|          | 0.00/438M [00:00<?, ?B/s]"
      ]
     },
     "metadata": {},
     "output_type": "display_data"
    },
    {
     "data": {
      "application/vnd.jupyter.widget-view+json": {
       "model_id": "038eb274a49043d98aca90a52e15651a",
       "version_major": 2,
       "version_minor": 0
      },
      "text/plain": [
       "pytorch_model.bin:   0%|          | 0.00/438M [00:00<?, ?B/s]"
      ]
     },
     "metadata": {},
     "output_type": "display_data"
    },
    {
     "data": {
      "application/vnd.jupyter.widget-view+json": {
       "model_id": "fa7a59ed192142a6ac9cad3c8dfb15df",
       "version_major": 2,
       "version_minor": 0
      },
      "text/plain": [
       "sentence_bert_config.json:   0%|          | 0.00/53.0 [00:00<?, ?B/s]"
      ]
     },
     "metadata": {},
     "output_type": "display_data"
    },
    {
     "data": {
      "application/vnd.jupyter.widget-view+json": {
       "model_id": "a9c79294fb5d410393e2a956bf865261",
       "version_major": 2,
       "version_minor": 0
      },
      "text/plain": [
       "special_tokens_map.json:   0%|          | 0.00/239 [00:00<?, ?B/s]"
      ]
     },
     "metadata": {},
     "output_type": "display_data"
    },
    {
     "data": {
      "application/vnd.jupyter.widget-view+json": {
       "model_id": "aeeacdbeff80459d8c2ea2ee39fe533b",
       "version_major": 2,
       "version_minor": 0
      },
      "text/plain": [
       "tokenizer.json:   0%|          | 0.00/466k [00:00<?, ?B/s]"
      ]
     },
     "metadata": {},
     "output_type": "display_data"
    },
    {
     "data": {
      "application/vnd.jupyter.widget-view+json": {
       "model_id": "6cafc389525f441883e208acd77fba23",
       "version_major": 2,
       "version_minor": 0
      },
      "text/plain": [
       "tokenizer_config.json:   0%|          | 0.00/363 [00:00<?, ?B/s]"
      ]
     },
     "metadata": {},
     "output_type": "display_data"
    },
    {
     "data": {
      "application/vnd.jupyter.widget-view+json": {
       "model_id": "37c851ac2fe4483387c6c0dbee88d68b",
       "version_major": 2,
       "version_minor": 0
      },
      "text/plain": [
       "train_script.py:   0%|          | 0.00/13.1k [00:00<?, ?B/s]"
      ]
     },
     "metadata": {},
     "output_type": "display_data"
    },
    {
     "data": {
      "application/vnd.jupyter.widget-view+json": {
       "model_id": "38baef2783814f9199ce73e87d30c725",
       "version_major": 2,
       "version_minor": 0
      },
      "text/plain": [
       "vocab.txt:   0%|          | 0.00/232k [00:00<?, ?B/s]"
      ]
     },
     "metadata": {},
     "output_type": "display_data"
    },
    {
     "data": {
      "application/vnd.jupyter.widget-view+json": {
       "model_id": "a7fc2a62f0a341ddbe9c82b67047a154",
       "version_major": 2,
       "version_minor": 0
      },
      "text/plain": [
       "modules.json:   0%|          | 0.00/349 [00:00<?, ?B/s]"
      ]
     },
     "metadata": {},
     "output_type": "display_data"
    },
    {
     "data": {
      "text/plain": [
       "349"
      ]
     },
     "execution_count": 2,
     "metadata": {},
     "output_type": "execute_result"
    }
   ],
   "source": [
    "embedding_function = SentenceTransformerEmbeddingFunction()\n",
    "\n",
    "chroma_collection = load_chroma(filename='microsoft_annual_report_2022.pdf', collection_name='microsoft_annual_report_2022', embedding_function=embedding_function)\n",
    "chroma_collection.count()"
   ]
  },
  {
   "cell_type": "code",
   "execution_count": 3,
   "id": "a338ec83-6301-41a5-9ab1-e5d583306a3f",
   "metadata": {
    "height": 64
   },
   "outputs": [
    {
     "name": "stderr",
     "output_type": "stream",
     "text": [
      "/usr/local/lib/python3.9/site-packages/umap/umap_.py:1943: UserWarning: n_jobs value -1 overridden to 1 by setting random_state. Use no seed for parallelism.\n",
      "  warn(f\"n_jobs value {self.n_jobs} overridden to 1 by setting random_state. Use no seed for parallelism.\")\n",
      "100%|██████████| 349/349 [03:35<00:00,  1.62it/s]\n"
     ]
    }
   ],
   "source": [
    "embeddings = chroma_collection.get(include=['embeddings'])['embeddings']\n",
    "umap_transform = umap.UMAP(random_state=0, transform_seed=0).fit(embeddings)\n",
    "projected_dataset_embeddings = project_embeddings(embeddings, umap_transform)"
   ]
  },
  {
   "cell_type": "code",
   "execution_count": 4,
   "id": "5665c695-22ea-4264-b1ac-5ba720b6d78b",
   "metadata": {
    "height": 166
   },
   "outputs": [],
   "source": [
    "import os\n",
    "import openai\n",
    "from openai import OpenAI\n",
    "\n",
    "from dotenv import load_dotenv, find_dotenv\n",
    "_ = load_dotenv(find_dotenv()) # read local .env file\n",
    "openai.api_key = os.environ['OPENAI_API_KEY']\n",
    "\n",
    "openai_client = OpenAI()"
   ]
  },
  {
   "cell_type": "markdown",
   "id": "a34ff415-8d20-4171-9d40-7eb1bbe837a1",
   "metadata": {},
   "source": [
    "## Creating a dataset"
   ]
  },
  {
   "cell_type": "code",
   "execution_count": 5,
   "id": "8ba6c8c5-9ce4-44d0-9223-6fdd77871f87",
   "metadata": {
    "height": 319
   },
   "outputs": [],
   "source": [
    "def generate_queries(model=\"gpt-3.5-turbo\"):\n",
    "    messages = [\n",
    "        {\n",
    "            \"role\": \"system\",\n",
    "            \"content\": \"You are a helpful expert financial research assistant. You help users analyze financial statements to better understand companies. \"\n",
    "            \"Suggest 10 to 15 short questions that are important to ask when analyzing an annual report. \"\n",
    "            \"Do not output any compound questions (questions with multiple sentences or conjunctions).\"\n",
    "            \"Output each question on a separate line divided by a newline.\"\n",
    "        },\n",
    "    ]\n",
    "\n",
    "    response = openai_client.chat.completions.create(\n",
    "        model=model,\n",
    "        messages=messages,\n",
    "    )\n",
    "    content = response.choices[0].message.content\n",
    "    content = content.split(\"\\n\")\n",
    "    return content"
   ]
  },
  {
   "cell_type": "code",
   "execution_count": 6,
   "id": "bfdb54db-a442-423c-b006-c33a257cd7d7",
   "metadata": {
    "height": 64
   },
   "outputs": [
    {
     "name": "stderr",
     "output_type": "stream",
     "text": [
      "huggingface/tokenizers: The current process just got forked, after parallelism has already been used. Disabling parallelism to avoid deadlocks...\n",
      "To disable this warning, you can either:\n",
      "\t- Avoid using `tokenizers` before the fork if possible\n",
      "\t- Explicitly set the environment variable TOKENIZERS_PARALLELISM=(true | false)\n"
     ]
    },
    {
     "name": "stdout",
     "output_type": "stream",
     "text": [
      "1. What is the company's revenue trend over the past few years?\n",
      "2. How has the company's net income been trending?\n",
      "3. What are the key drivers of the company's financial performance?\n",
      "4. What is the company's debt level and how has it changed over time?\n",
      "5. How efficient is the company in managing its working capital?\n",
      "6. What is the company's dividend policy and payout ratio?\n",
      "7. What are the major risks and uncertainties facing the company?\n",
      "8. How does the company compare to its industry peers in terms of financial performance?\n",
      "9. What is the company's cash flow from operating activities?\n",
      "10. Has the company been making significant investments in research and development or capital expenditures?\n",
      "11. What is the company's current ratio and quick ratio?\n",
      "12. How has the company's stock price been performing relative to the broader market indices?\n",
      "13. What is the company's return on equity and return on assets?\n",
      "14. Does the company have any off-balance sheet liabilities or commitments?\n",
      "15. What is the company's strategy for future growth and how does it plan to fund it?\n"
     ]
    }
   ],
   "source": [
    "generated_queries = generate_queries()\n",
    "for query in generated_queries:\n",
    "    print(query)"
   ]
  },
  {
   "cell_type": "code",
   "execution_count": 7,
   "id": "377a84aa-1d93-4e97-9b2d-d59c46355338",
   "metadata": {
    "height": 47
   },
   "outputs": [],
   "source": [
    "results = chroma_collection.query(query_texts=generated_queries, n_results=10, include=['documents', 'embeddings'])\n",
    "retrieved_documents = results['documents']"
   ]
  },
  {
   "cell_type": "code",
   "execution_count": 8,
   "id": "ba0ed8ca-6640-4c09-9cb3-9de5e7cf46dc",
   "metadata": {
    "height": 404
   },
   "outputs": [],
   "source": [
    "def evaluate_results(query, statement, model=\"gpt-3.5-turbo\"):\n",
    "    messages = [\n",
    "    {\n",
    "        \"role\": \"system\",\n",
    "        \"content\": \"You are a helpful expert financial research assistant. You help users analyze financial statements to better understand companies. \"\n",
    "        \"For the given query, evaluate whether the following satement is relevant.\"\n",
    "        \"Output only 'yes' or 'no'.\"\n",
    "    },\n",
    "    {\n",
    "        \"role\": \"user\",\n",
    "        \"content\": f\"Query: {query}, Statement: {statement}\"\n",
    "    }\n",
    "    ]\n",
    "\n",
    "    response = openai_client.chat.completions.create(\n",
    "        model=model,\n",
    "        messages=messages,\n",
    "        max_tokens=1\n",
    "    )\n",
    "    content = response.choices[0].message.content\n",
    "    if content == \"yes\":\n",
    "        return 1\n",
    "    return -1"
   ]
  },
  {
   "cell_type": "code",
   "execution_count": 9,
   "id": "28bac3a2-0d29-48dc-9b48-2d9313239a25",
   "metadata": {
    "height": 47
   },
   "outputs": [],
   "source": [
    "retrieved_embeddings = results['embeddings']\n",
    "query_embeddings = embedding_function(generated_queries)"
   ]
  },
  {
   "cell_type": "code",
   "execution_count": 10,
   "id": "db9f2758-0f5a-49e5-b1fa-517b91324575",
   "metadata": {
    "height": 64
   },
   "outputs": [],
   "source": [
    "adapter_query_embeddings = []\n",
    "adapter_doc_embeddings = []\n",
    "adapter_labels = []"
   ]
  },
  {
   "cell_type": "code",
   "execution_count": 11,
   "id": "aee59493-8a99-4da8-b94f-4747efcfc79d",
   "metadata": {
    "height": 98
   },
   "outputs": [
    {
     "name": "stderr",
     "output_type": "stream",
     "text": [
      "100%|██████████| 15/15 [01:03<00:00,  4.25s/it]\n"
     ]
    }
   ],
   "source": [
    "for q, query in enumerate(tqdm(generated_queries)):\n",
    "    for d, document in enumerate(retrieved_documents[q]):\n",
    "        adapter_query_embeddings.append(query_embeddings[q])\n",
    "        adapter_doc_embeddings.append(retrieved_embeddings[q][d])\n",
    "        adapter_labels.append(evaluate_results(query, document))"
   ]
  },
  {
   "cell_type": "code",
   "execution_count": 12,
   "id": "c65337e9-85ee-47f7-89fd-7fe77cd0e1b2",
   "metadata": {
    "height": 30
   },
   "outputs": [
    {
     "data": {
      "text/plain": [
       "150"
      ]
     },
     "execution_count": 12,
     "metadata": {},
     "output_type": "execute_result"
    }
   ],
   "source": [
    "len(adapter_labels)"
   ]
  },
  {
   "cell_type": "code",
   "execution_count": 13,
   "id": "babe7893-9cbc-43c5-94ef-cbf8f5d68cf2",
   "metadata": {
    "height": 64
   },
   "outputs": [],
   "source": [
    "adapter_query_embeddings = torch.Tensor(np.array(adapter_query_embeddings))\n",
    "adapter_doc_embeddings = torch.Tensor(np.array(adapter_doc_embeddings))\n",
    "adapter_labels = torch.Tensor(np.expand_dims(np.array(adapter_labels),1))"
   ]
  },
  {
   "cell_type": "code",
   "execution_count": 14,
   "id": "60a9524b-1085-4bdf-a161-39f11397dc1f",
   "metadata": {
    "height": 30
   },
   "outputs": [],
   "source": [
    "dataset = torch.utils.data.TensorDataset(adapter_query_embeddings, adapter_doc_embeddings, adapter_labels)"
   ]
  },
  {
   "cell_type": "markdown",
   "id": "bdac56f2-b98c-46ab-9cc4-248b79177ef8",
   "metadata": {},
   "source": [
    "## Setting up the model"
   ]
  },
  {
   "cell_type": "code",
   "execution_count": 15,
   "id": "7b26a01a-4575-446b-b8dc-a8c5ab153172",
   "metadata": {
    "height": 81
   },
   "outputs": [],
   "source": [
    "def model(query_embedding, document_embedding, adaptor_matrix):\n",
    "    updated_query_embedding = torch.matmul(adaptor_matrix, query_embedding)\n",
    "    return torch.cosine_similarity(updated_query_embedding, document_embedding, dim=0)\n"
   ]
  },
  {
   "cell_type": "code",
   "execution_count": 16,
   "id": "0950575b-b69d-46a3-8c91-c7af89f5c204",
   "metadata": {
    "height": 47
   },
   "outputs": [],
   "source": [
    "def mse_loss(query_embedding, document_embedding, adaptor_matrix, label):\n",
    "    return torch.nn.MSELoss()(model(query_embedding, document_embedding, adaptor_matrix), label)"
   ]
  },
  {
   "cell_type": "code",
   "execution_count": 17,
   "id": "3f123ad8-b2e8-4a25-8b42-a520ecaf566b",
   "metadata": {
    "height": 64
   },
   "outputs": [],
   "source": [
    "# Initialize the adaptor matrix\n",
    "mat_size = len(adapter_query_embeddings[0])\n",
    "adapter_matrix = torch.randn(mat_size, mat_size, requires_grad=True)"
   ]
  },
  {
   "cell_type": "code",
   "execution_count": 18,
   "id": "83c04587-d1de-419c-a213-2e3eb67dc33d",
   "metadata": {
    "height": 285
   },
   "outputs": [
    {
     "name": "stderr",
     "output_type": "stream",
     "text": [
      "  0%|          | 0/100 [00:00<?, ?it/s]/usr/local/lib/python3.9/site-packages/torch/nn/modules/loss.py:538: UserWarning: Using a target size (torch.Size([1])) that is different to the input size (torch.Size([])). This will likely lead to incorrect results due to broadcasting. Please ensure they have the same size.\n",
      "  return F.mse_loss(input, target, reduction=self.reduction)\n",
      "100%|██████████| 100/100 [00:02<00:00, 35.58it/s]\n"
     ]
    }
   ],
   "source": [
    "min_loss = float('inf')\n",
    "best_matrix = None\n",
    "\n",
    "for epoch in tqdm(range(100)):\n",
    "    for query_embedding, document_embedding, label in dataset:\n",
    "        loss = mse_loss(query_embedding, document_embedding, adapter_matrix, label)\n",
    "\n",
    "        if loss < min_loss:\n",
    "            min_loss = loss\n",
    "            best_matrix = adapter_matrix.clone().detach().numpy()\n",
    "\n",
    "        loss.backward()\n",
    "        with torch.no_grad():\n",
    "            adapter_matrix -= 0.01 * adapter_matrix.grad\n",
    "            adapter_matrix.grad.zero_()\n",
    "        "
   ]
  },
  {
   "cell_type": "code",
   "execution_count": 19,
   "id": "d3155972-824e-4ebe-a692-2227c113c5a8",
   "metadata": {
    "height": 30
   },
   "outputs": [
    {
     "name": "stdout",
     "output_type": "stream",
     "text": [
      "Best loss: 0.5856936573982239\n"
     ]
    }
   ],
   "source": [
    "print(f\"Best loss: {min_loss.detach().numpy()}\")"
   ]
  },
  {
   "cell_type": "code",
   "execution_count": 20,
   "id": "d8144a4a-85f6-4800-87f9-36a1b6ceda1f",
   "metadata": {
    "height": 47
   },
   "outputs": [],
   "source": [
    "test_vector = torch.ones((mat_size,1))\n",
    "scaled_vector = np.matmul(best_matrix, test_vector).numpy()"
   ]
  },
  {
   "cell_type": "code",
   "execution_count": 21,
   "id": "bf7d4d06",
   "metadata": {
    "height": 30
   },
   "outputs": [
    {
     "data": {
      "text/plain": [
       "tensor([[1.],\n",
       "        [1.],\n",
       "        [1.],\n",
       "        [1.],\n",
       "        [1.],\n",
       "        [1.],\n",
       "        [1.],\n",
       "        [1.],\n",
       "        [1.],\n",
       "        [1.],\n",
       "        [1.],\n",
       "        [1.],\n",
       "        [1.],\n",
       "        [1.],\n",
       "        [1.],\n",
       "        [1.],\n",
       "        [1.],\n",
       "        [1.],\n",
       "        [1.],\n",
       "        [1.],\n",
       "        [1.],\n",
       "        [1.],\n",
       "        [1.],\n",
       "        [1.],\n",
       "        [1.],\n",
       "        [1.],\n",
       "        [1.],\n",
       "        [1.],\n",
       "        [1.],\n",
       "        [1.],\n",
       "        [1.],\n",
       "        [1.],\n",
       "        [1.],\n",
       "        [1.],\n",
       "        [1.],\n",
       "        [1.],\n",
       "        [1.],\n",
       "        [1.],\n",
       "        [1.],\n",
       "        [1.],\n",
       "        [1.],\n",
       "        [1.],\n",
       "        [1.],\n",
       "        [1.],\n",
       "        [1.],\n",
       "        [1.],\n",
       "        [1.],\n",
       "        [1.],\n",
       "        [1.],\n",
       "        [1.],\n",
       "        [1.],\n",
       "        [1.],\n",
       "        [1.],\n",
       "        [1.],\n",
       "        [1.],\n",
       "        [1.],\n",
       "        [1.],\n",
       "        [1.],\n",
       "        [1.],\n",
       "        [1.],\n",
       "        [1.],\n",
       "        [1.],\n",
       "        [1.],\n",
       "        [1.],\n",
       "        [1.],\n",
       "        [1.],\n",
       "        [1.],\n",
       "        [1.],\n",
       "        [1.],\n",
       "        [1.],\n",
       "        [1.],\n",
       "        [1.],\n",
       "        [1.],\n",
       "        [1.],\n",
       "        [1.],\n",
       "        [1.],\n",
       "        [1.],\n",
       "        [1.],\n",
       "        [1.],\n",
       "        [1.],\n",
       "        [1.],\n",
       "        [1.],\n",
       "        [1.],\n",
       "        [1.],\n",
       "        [1.],\n",
       "        [1.],\n",
       "        [1.],\n",
       "        [1.],\n",
       "        [1.],\n",
       "        [1.],\n",
       "        [1.],\n",
       "        [1.],\n",
       "        [1.],\n",
       "        [1.],\n",
       "        [1.],\n",
       "        [1.],\n",
       "        [1.],\n",
       "        [1.],\n",
       "        [1.],\n",
       "        [1.],\n",
       "        [1.],\n",
       "        [1.],\n",
       "        [1.],\n",
       "        [1.],\n",
       "        [1.],\n",
       "        [1.],\n",
       "        [1.],\n",
       "        [1.],\n",
       "        [1.],\n",
       "        [1.],\n",
       "        [1.],\n",
       "        [1.],\n",
       "        [1.],\n",
       "        [1.],\n",
       "        [1.],\n",
       "        [1.],\n",
       "        [1.],\n",
       "        [1.],\n",
       "        [1.],\n",
       "        [1.],\n",
       "        [1.],\n",
       "        [1.],\n",
       "        [1.],\n",
       "        [1.],\n",
       "        [1.],\n",
       "        [1.],\n",
       "        [1.],\n",
       "        [1.],\n",
       "        [1.],\n",
       "        [1.],\n",
       "        [1.],\n",
       "        [1.],\n",
       "        [1.],\n",
       "        [1.],\n",
       "        [1.],\n",
       "        [1.],\n",
       "        [1.],\n",
       "        [1.],\n",
       "        [1.],\n",
       "        [1.],\n",
       "        [1.],\n",
       "        [1.],\n",
       "        [1.],\n",
       "        [1.],\n",
       "        [1.],\n",
       "        [1.],\n",
       "        [1.],\n",
       "        [1.],\n",
       "        [1.],\n",
       "        [1.],\n",
       "        [1.],\n",
       "        [1.],\n",
       "        [1.],\n",
       "        [1.],\n",
       "        [1.],\n",
       "        [1.],\n",
       "        [1.],\n",
       "        [1.],\n",
       "        [1.],\n",
       "        [1.],\n",
       "        [1.],\n",
       "        [1.],\n",
       "        [1.],\n",
       "        [1.],\n",
       "        [1.],\n",
       "        [1.],\n",
       "        [1.],\n",
       "        [1.],\n",
       "        [1.],\n",
       "        [1.],\n",
       "        [1.],\n",
       "        [1.],\n",
       "        [1.],\n",
       "        [1.],\n",
       "        [1.],\n",
       "        [1.],\n",
       "        [1.],\n",
       "        [1.],\n",
       "        [1.],\n",
       "        [1.],\n",
       "        [1.],\n",
       "        [1.],\n",
       "        [1.],\n",
       "        [1.],\n",
       "        [1.],\n",
       "        [1.],\n",
       "        [1.],\n",
       "        [1.],\n",
       "        [1.],\n",
       "        [1.],\n",
       "        [1.],\n",
       "        [1.],\n",
       "        [1.],\n",
       "        [1.],\n",
       "        [1.],\n",
       "        [1.],\n",
       "        [1.],\n",
       "        [1.],\n",
       "        [1.],\n",
       "        [1.],\n",
       "        [1.],\n",
       "        [1.],\n",
       "        [1.],\n",
       "        [1.],\n",
       "        [1.],\n",
       "        [1.],\n",
       "        [1.],\n",
       "        [1.],\n",
       "        [1.],\n",
       "        [1.],\n",
       "        [1.],\n",
       "        [1.],\n",
       "        [1.],\n",
       "        [1.],\n",
       "        [1.],\n",
       "        [1.],\n",
       "        [1.],\n",
       "        [1.],\n",
       "        [1.],\n",
       "        [1.],\n",
       "        [1.],\n",
       "        [1.],\n",
       "        [1.],\n",
       "        [1.],\n",
       "        [1.],\n",
       "        [1.],\n",
       "        [1.],\n",
       "        [1.],\n",
       "        [1.],\n",
       "        [1.],\n",
       "        [1.],\n",
       "        [1.],\n",
       "        [1.],\n",
       "        [1.],\n",
       "        [1.],\n",
       "        [1.],\n",
       "        [1.],\n",
       "        [1.],\n",
       "        [1.],\n",
       "        [1.],\n",
       "        [1.],\n",
       "        [1.],\n",
       "        [1.],\n",
       "        [1.],\n",
       "        [1.],\n",
       "        [1.],\n",
       "        [1.],\n",
       "        [1.],\n",
       "        [1.],\n",
       "        [1.],\n",
       "        [1.],\n",
       "        [1.],\n",
       "        [1.],\n",
       "        [1.],\n",
       "        [1.],\n",
       "        [1.],\n",
       "        [1.],\n",
       "        [1.],\n",
       "        [1.],\n",
       "        [1.],\n",
       "        [1.],\n",
       "        [1.],\n",
       "        [1.],\n",
       "        [1.],\n",
       "        [1.],\n",
       "        [1.],\n",
       "        [1.],\n",
       "        [1.],\n",
       "        [1.],\n",
       "        [1.],\n",
       "        [1.],\n",
       "        [1.],\n",
       "        [1.],\n",
       "        [1.],\n",
       "        [1.],\n",
       "        [1.],\n",
       "        [1.],\n",
       "        [1.],\n",
       "        [1.],\n",
       "        [1.],\n",
       "        [1.],\n",
       "        [1.],\n",
       "        [1.],\n",
       "        [1.],\n",
       "        [1.],\n",
       "        [1.],\n",
       "        [1.],\n",
       "        [1.],\n",
       "        [1.],\n",
       "        [1.],\n",
       "        [1.],\n",
       "        [1.],\n",
       "        [1.],\n",
       "        [1.],\n",
       "        [1.],\n",
       "        [1.],\n",
       "        [1.],\n",
       "        [1.],\n",
       "        [1.],\n",
       "        [1.],\n",
       "        [1.],\n",
       "        [1.],\n",
       "        [1.],\n",
       "        [1.],\n",
       "        [1.],\n",
       "        [1.],\n",
       "        [1.],\n",
       "        [1.],\n",
       "        [1.],\n",
       "        [1.],\n",
       "        [1.],\n",
       "        [1.],\n",
       "        [1.],\n",
       "        [1.],\n",
       "        [1.],\n",
       "        [1.],\n",
       "        [1.],\n",
       "        [1.],\n",
       "        [1.],\n",
       "        [1.],\n",
       "        [1.],\n",
       "        [1.],\n",
       "        [1.],\n",
       "        [1.],\n",
       "        [1.],\n",
       "        [1.],\n",
       "        [1.],\n",
       "        [1.],\n",
       "        [1.],\n",
       "        [1.],\n",
       "        [1.],\n",
       "        [1.],\n",
       "        [1.],\n",
       "        [1.],\n",
       "        [1.],\n",
       "        [1.],\n",
       "        [1.],\n",
       "        [1.],\n",
       "        [1.],\n",
       "        [1.],\n",
       "        [1.],\n",
       "        [1.],\n",
       "        [1.],\n",
       "        [1.],\n",
       "        [1.],\n",
       "        [1.],\n",
       "        [1.],\n",
       "        [1.],\n",
       "        [1.],\n",
       "        [1.],\n",
       "        [1.],\n",
       "        [1.],\n",
       "        [1.],\n",
       "        [1.],\n",
       "        [1.],\n",
       "        [1.],\n",
       "        [1.],\n",
       "        [1.],\n",
       "        [1.],\n",
       "        [1.],\n",
       "        [1.],\n",
       "        [1.],\n",
       "        [1.],\n",
       "        [1.],\n",
       "        [1.],\n",
       "        [1.],\n",
       "        [1.],\n",
       "        [1.],\n",
       "        [1.],\n",
       "        [1.],\n",
       "        [1.],\n",
       "        [1.],\n",
       "        [1.],\n",
       "        [1.],\n",
       "        [1.],\n",
       "        [1.],\n",
       "        [1.],\n",
       "        [1.],\n",
       "        [1.],\n",
       "        [1.],\n",
       "        [1.],\n",
       "        [1.],\n",
       "        [1.],\n",
       "        [1.]])"
      ]
     },
     "execution_count": 21,
     "metadata": {},
     "output_type": "execute_result"
    }
   ],
   "source": [
    "test_vector"
   ]
  },
  {
   "cell_type": "code",
   "execution_count": 23,
   "id": "23943548",
   "metadata": {
    "height": 30
   },
   "outputs": [
    {
     "data": {
      "text/plain": [
       "array([[-2.03438377e+01],\n",
       "       [ 5.54595184e+00],\n",
       "       [ 1.08879490e+01],\n",
       "       [ 5.17946777e+01],\n",
       "       [-3.57713356e+01],\n",
       "       [-1.67260532e+01],\n",
       "       [-1.15965109e+01],\n",
       "       [ 3.51890182e+00],\n",
       "       [ 1.84228802e+01],\n",
       "       [-4.52016830e-01],\n",
       "       [-2.78442383e+00],\n",
       "       [-3.94134331e+01],\n",
       "       [-3.02013707e+00],\n",
       "       [ 2.33400393e+00],\n",
       "       [-8.63854504e+00],\n",
       "       [ 1.59069595e+01],\n",
       "       [-9.11353016e+00],\n",
       "       [-1.91393547e+01],\n",
       "       [ 2.84380093e+01],\n",
       "       [-2.81502762e+01],\n",
       "       [-6.35746098e+00],\n",
       "       [ 3.68803558e+01],\n",
       "       [ 2.89097595e+01],\n",
       "       [ 3.74646378e+00],\n",
       "       [-2.61298809e+01],\n",
       "       [ 1.55050526e+01],\n",
       "       [-4.47350845e+01],\n",
       "       [ 5.61292496e+01],\n",
       "       [-1.47707729e+01],\n",
       "       [ 4.86424942e+01],\n",
       "       [ 1.84283142e+01],\n",
       "       [-1.41132631e+01],\n",
       "       [ 1.75222969e+01],\n",
       "       [-1.27252254e+01],\n",
       "       [-8.60099792e+00],\n",
       "       [ 2.06266594e+00],\n",
       "       [-2.11388950e+01],\n",
       "       [-1.45528507e+01],\n",
       "       [-5.02786160e+00],\n",
       "       [ 3.35058823e+01],\n",
       "       [-2.68062592e-01],\n",
       "       [ 8.99278545e+00],\n",
       "       [-1.49261370e+01],\n",
       "       [-2.73312588e+01],\n",
       "       [-1.46726632e+00],\n",
       "       [ 3.30430436e+00],\n",
       "       [-1.66857586e+01],\n",
       "       [-1.58180733e+01],\n",
       "       [ 1.29208927e+01],\n",
       "       [-2.87350121e+01],\n",
       "       [ 8.71293640e+00],\n",
       "       [-2.02273331e+01],\n",
       "       [ 6.80379868e-01],\n",
       "       [ 1.81393166e+01],\n",
       "       [ 2.12196960e+01],\n",
       "       [-2.02812748e+01],\n",
       "       [ 6.79842091e+00],\n",
       "       [ 1.73570538e+01],\n",
       "       [ 4.55163193e+01],\n",
       "       [-5.66276407e+00],\n",
       "       [-1.38431559e+01],\n",
       "       [ 2.21669598e+01],\n",
       "       [-8.80169678e+00],\n",
       "       [ 3.17159519e+01],\n",
       "       [-2.57117748e+01],\n",
       "       [ 1.58449183e+01],\n",
       "       [ 7.91870594e-01],\n",
       "       [ 1.08296185e+01],\n",
       "       [-4.62725449e+00],\n",
       "       [-3.47567444e+01],\n",
       "       [-1.75358009e+01],\n",
       "       [ 8.75015831e+00],\n",
       "       [ 5.58862305e+00],\n",
       "       [-1.39569683e+01],\n",
       "       [-2.58597088e+00],\n",
       "       [ 6.99183750e+00],\n",
       "       [-1.20665560e+01],\n",
       "       [ 2.68683224e+01],\n",
       "       [-8.77387238e+00],\n",
       "       [ 2.92900162e+01],\n",
       "       [-3.69564095e+01],\n",
       "       [ 2.38216305e+01],\n",
       "       [-2.69535294e+01],\n",
       "       [ 1.75802250e+01],\n",
       "       [-1.76835518e+01],\n",
       "       [-1.06909513e+01],\n",
       "       [-3.76139474e+00],\n",
       "       [-2.32080345e+01],\n",
       "       [-9.79510784e+00],\n",
       "       [ 5.81920624e+00],\n",
       "       [ 6.63126945e-01],\n",
       "       [-8.15618610e+00],\n",
       "       [-1.37233639e+01],\n",
       "       [-3.31649475e+01],\n",
       "       [-1.46937485e+01],\n",
       "       [-3.55283165e+00],\n",
       "       [-1.59970856e+01],\n",
       "       [ 6.97866344e+00],\n",
       "       [-3.06345692e+01],\n",
       "       [ 1.84143009e+01],\n",
       "       [-1.02250748e+01],\n",
       "       [ 4.08676815e+00],\n",
       "       [-1.64863777e+01],\n",
       "       [ 9.61310291e+00],\n",
       "       [-9.48416901e+00],\n",
       "       [ 1.77205086e+00],\n",
       "       [ 5.51651764e+00],\n",
       "       [-1.63250504e+01],\n",
       "       [-1.60508118e+01],\n",
       "       [-1.62326069e+01],\n",
       "       [-1.63840904e+01],\n",
       "       [ 2.39437675e+01],\n",
       "       [-1.30470333e+01],\n",
       "       [-1.82201958e+01],\n",
       "       [ 9.01899719e+00],\n",
       "       [-9.04574203e+00],\n",
       "       [-2.00049329e+00],\n",
       "       [ 2.92621784e+01],\n",
       "       [ 6.77819824e+00],\n",
       "       [ 2.26215153e+01],\n",
       "       [ 2.32038288e+01],\n",
       "       [ 3.77534714e+01],\n",
       "       [ 1.56989117e+01],\n",
       "       [-4.66330719e+00],\n",
       "       [ 4.93345642e+00],\n",
       "       [-3.29387054e+01],\n",
       "       [ 1.35942116e+01],\n",
       "       [-2.01553345e+00],\n",
       "       [ 1.19746284e+01],\n",
       "       [-1.54740047e+01],\n",
       "       [-3.21983871e+01],\n",
       "       [ 3.18938313e+01],\n",
       "       [ 1.17265058e+00],\n",
       "       [ 1.45168428e+01],\n",
       "       [-1.17202282e+00],\n",
       "       [ 2.95705280e+01],\n",
       "       [ 2.57488155e+00],\n",
       "       [ 9.25527954e+00],\n",
       "       [ 1.71930695e+01],\n",
       "       [ 5.27915955e-01],\n",
       "       [-6.62393379e+00],\n",
       "       [-2.72526073e+00],\n",
       "       [ 3.11234703e+01],\n",
       "       [ 1.98436279e+01],\n",
       "       [ 1.09776115e+01],\n",
       "       [ 5.64242363e+00],\n",
       "       [-1.02885885e+01],\n",
       "       [-2.66237564e+01],\n",
       "       [ 1.08089018e+01],\n",
       "       [-6.71540117e+00],\n",
       "       [ 3.79081230e+01],\n",
       "       [ 6.69054031e+00],\n",
       "       [-4.18300152e+00],\n",
       "       [ 3.84832268e+01],\n",
       "       [-4.58972740e+00],\n",
       "       [ 2.22912693e+01],\n",
       "       [-3.15452576e-01],\n",
       "       [ 1.85926495e+01],\n",
       "       [-1.35138035e+01],\n",
       "       [-7.58796883e+00],\n",
       "       [-3.52764549e+01],\n",
       "       [-7.77388954e+00],\n",
       "       [ 1.34715691e+01],\n",
       "       [-7.68887520e+00],\n",
       "       [ 8.84247017e+00],\n",
       "       [-4.05951309e+00],\n",
       "       [ 2.33555889e+00],\n",
       "       [ 3.04733391e+01],\n",
       "       [-3.19279461e+01],\n",
       "       [ 5.56803465e+00],\n",
       "       [-1.39177332e+01],\n",
       "       [ 5.60584641e+01],\n",
       "       [-3.72689667e+01],\n",
       "       [-2.94125748e+01],\n",
       "       [-2.11172485e+00],\n",
       "       [-2.76968384e+01],\n",
       "       [ 2.59934502e+01],\n",
       "       [ 2.52889271e+01],\n",
       "       [ 5.21021318e+00],\n",
       "       [ 9.10066795e+00],\n",
       "       [ 3.79909019e+01],\n",
       "       [ 3.05534601e+00],\n",
       "       [ 8.83332825e+00],\n",
       "       [ 1.02967787e+01],\n",
       "       [ 1.55212240e+01],\n",
       "       [ 7.87275934e+00],\n",
       "       [ 7.17715025e+00],\n",
       "       [ 3.15273056e+01],\n",
       "       [-8.85280991e+00],\n",
       "       [ 4.95719242e+00],\n",
       "       [-4.11037331e+01],\n",
       "       [ 2.21278038e+01],\n",
       "       [ 3.11043453e+00],\n",
       "       [-5.52301979e+01],\n",
       "       [ 2.66437378e+01],\n",
       "       [-4.47401123e+01],\n",
       "       [ 1.10309944e+01],\n",
       "       [ 3.30773087e+01],\n",
       "       [-1.94401531e+01],\n",
       "       [ 1.24054813e+00],\n",
       "       [-3.90242500e+01],\n",
       "       [ 1.09343147e+01],\n",
       "       [ 3.22767448e+00],\n",
       "       [ 2.39949722e+01],\n",
       "       [ 2.76477871e+01],\n",
       "       [ 4.47560310e-01],\n",
       "       [-1.63031940e+01],\n",
       "       [ 1.27849436e+01],\n",
       "       [ 7.69870090e+00],\n",
       "       [-1.86624527e+01],\n",
       "       [ 2.47008533e+01],\n",
       "       [ 2.99630547e+01],\n",
       "       [-8.18450260e+00],\n",
       "       [-4.16856647e-01],\n",
       "       [-8.60214233e+00],\n",
       "       [-2.36677475e+01],\n",
       "       [-3.19780922e+01],\n",
       "       [ 8.24239826e+00],\n",
       "       [ 4.34709167e+00],\n",
       "       [ 2.63495445e-02],\n",
       "       [ 1.49409847e+01],\n",
       "       [ 2.92586517e+00],\n",
       "       [-5.64121246e-01],\n",
       "       [ 4.06455994e+01],\n",
       "       [-4.56760406e+00],\n",
       "       [-1.17808208e+01],\n",
       "       [ 4.13373280e+00],\n",
       "       [ 1.29597578e+01],\n",
       "       [ 2.10228119e+01],\n",
       "       [-4.58870926e+01],\n",
       "       [ 1.13672581e+01],\n",
       "       [-1.03064671e+01],\n",
       "       [-1.35729990e+01],\n",
       "       [ 5.92259979e+00],\n",
       "       [-1.68249664e+01],\n",
       "       [-1.31091557e+01],\n",
       "       [ 3.11213493e+01],\n",
       "       [ 1.75748577e+01],\n",
       "       [ 2.03671455e-01],\n",
       "       [ 2.16678123e+01],\n",
       "       [ 2.55361557e+00],\n",
       "       [ 2.54482574e+01],\n",
       "       [-5.27139378e+00],\n",
       "       [ 3.53005333e+01],\n",
       "       [-1.05087299e+01],\n",
       "       [-1.59114265e+00],\n",
       "       [ 1.12508593e+01],\n",
       "       [-9.98303127e+00],\n",
       "       [-1.87139206e+01],\n",
       "       [ 1.79134464e+01],\n",
       "       [ 1.50318260e+01],\n",
       "       [ 3.67656631e+01],\n",
       "       [-1.95427094e+01],\n",
       "       [-1.07286177e+01],\n",
       "       [ 6.77762413e+00],\n",
       "       [-1.98102951e+01],\n",
       "       [-2.44165726e+01],\n",
       "       [-1.45144482e+01],\n",
       "       [-2.70650291e+00],\n",
       "       [-1.55508251e+01],\n",
       "       [ 2.59456468e+00],\n",
       "       [ 1.58744144e+01],\n",
       "       [ 1.29982758e+01],\n",
       "       [ 8.66085243e+00],\n",
       "       [ 2.21226978e+01],\n",
       "       [-1.99172001e+01],\n",
       "       [ 7.76600122e+00],\n",
       "       [ 3.01807632e+01],\n",
       "       [-8.26205063e+00],\n",
       "       [-1.45480671e+01],\n",
       "       [ 1.57514648e+01],\n",
       "       [-1.57486334e+01],\n",
       "       [-1.82500229e+01],\n",
       "       [ 3.54197083e+01],\n",
       "       [-6.28875685e+00],\n",
       "       [-1.06580849e+01],\n",
       "       [-1.68097286e+01],\n",
       "       [-2.43040180e+01],\n",
       "       [-3.31911736e+01],\n",
       "       [-3.33492470e+01],\n",
       "       [-1.72005882e+01],\n",
       "       [-1.37073021e+01],\n",
       "       [ 1.15462160e+00],\n",
       "       [-4.97132397e+00],\n",
       "       [ 2.50740490e+01],\n",
       "       [ 1.81206932e+01],\n",
       "       [-3.34645844e+00],\n",
       "       [ 1.80958824e+01],\n",
       "       [ 8.28846169e+00],\n",
       "       [ 1.69429817e+01],\n",
       "       [-1.14502239e+01],\n",
       "       [ 1.43527651e+01],\n",
       "       [-3.89621658e+01],\n",
       "       [-3.65358829e-01],\n",
       "       [ 5.67296314e+00],\n",
       "       [-8.18523216e+00],\n",
       "       [-1.67193413e-01],\n",
       "       [-5.64350128e+00],\n",
       "       [ 7.46998882e+00],\n",
       "       [ 9.95409870e+00],\n",
       "       [ 8.84154701e+00],\n",
       "       [-1.08499451e+01],\n",
       "       [-3.65467720e+01],\n",
       "       [ 1.97384491e+01],\n",
       "       [ 9.11489296e+00],\n",
       "       [-1.24529953e+01],\n",
       "       [ 1.36750031e+01],\n",
       "       [-2.11247444e+01],\n",
       "       [-2.46893997e+01],\n",
       "       [-1.95428505e+01],\n",
       "       [ 3.01967831e+01],\n",
       "       [-1.35735226e+00],\n",
       "       [-1.09725094e+01],\n",
       "       [ 2.34516382e+00],\n",
       "       [ 5.83983994e+00],\n",
       "       [ 6.50551224e+00],\n",
       "       [ 4.97699738e+00],\n",
       "       [-2.17944412e+01],\n",
       "       [-6.23062897e+00],\n",
       "       [-3.18439960e+00],\n",
       "       [ 3.09282837e+01],\n",
       "       [ 2.10867119e+00],\n",
       "       [-1.86409340e+01],\n",
       "       [ 1.88206291e+00],\n",
       "       [ 5.88726139e+00],\n",
       "       [ 1.37622166e+01],\n",
       "       [-2.84045467e+01],\n",
       "       [-6.64407539e+00],\n",
       "       [ 1.91258073e+00],\n",
       "       [-7.05369186e+00],\n",
       "       [ 6.66409445e+00],\n",
       "       [-3.90723872e+00],\n",
       "       [ 3.66931076e+01],\n",
       "       [-1.07870712e+01],\n",
       "       [ 1.78345699e+01],\n",
       "       [-1.16178942e+01],\n",
       "       [ 2.28029728e+00],\n",
       "       [-1.69282866e+00],\n",
       "       [-1.87560940e+00],\n",
       "       [ 2.02520409e+01],\n",
       "       [ 4.84161568e+00],\n",
       "       [-1.54026070e+01],\n",
       "       [-9.98245049e+00],\n",
       "       [-2.89270973e+01],\n",
       "       [ 3.30838966e+00],\n",
       "       [-1.62168179e+01],\n",
       "       [-7.54336977e+00],\n",
       "       [-1.08094530e+01],\n",
       "       [ 3.47467041e+00],\n",
       "       [-1.14693317e+01],\n",
       "       [-2.18163967e+01],\n",
       "       [ 2.78887272e+01],\n",
       "       [ 2.08766937e+00],\n",
       "       [ 4.09165878e+01],\n",
       "       [ 6.12253094e+00],\n",
       "       [-2.09114361e+01],\n",
       "       [-1.51727667e+01],\n",
       "       [ 2.94696960e+01],\n",
       "       [ 1.73119869e+01],\n",
       "       [-1.25754662e+01],\n",
       "       [ 4.38903999e+01],\n",
       "       [ 9.51892853e+00],\n",
       "       [-1.97272491e+01],\n",
       "       [ 9.54647827e+00],\n",
       "       [ 6.36351871e+00],\n",
       "       [-2.87452660e+01],\n",
       "       [ 8.84212303e+00],\n",
       "       [-1.41244221e+01],\n",
       "       [-1.58804131e+01],\n",
       "       [-4.78561115e+00],\n",
       "       [-1.91164780e+01],\n",
       "       [ 5.76057434e-01],\n",
       "       [ 1.52304716e+01],\n",
       "       [-4.32529602e+01],\n",
       "       [ 6.01416016e+00],\n",
       "       [-2.71516037e+01],\n",
       "       [-1.15547104e+01],\n",
       "       [-1.93330803e+01],\n",
       "       [ 1.16420555e+01],\n",
       "       [ 2.15347977e+01],\n",
       "       [-2.50918808e+01],\n",
       "       [ 7.58297062e+00],\n",
       "       [-2.95626583e+01],\n",
       "       [-9.52469921e+00]], dtype=float32)"
      ]
     },
     "execution_count": 23,
     "metadata": {},
     "output_type": "execute_result"
    }
   ],
   "source": [
    "scaled_vector"
   ]
  },
  {
   "cell_type": "code",
   "execution_count": 22,
   "id": "8ff0b18e-12a0-4ac0-97dd-8618b22e7dbf",
   "metadata": {
    "height": 81
   },
   "outputs": [
    {
     "name": "stderr",
     "output_type": "stream",
     "text": [
      "huggingface/tokenizers: The current process just got forked, after parallelism has already been used. Disabling parallelism to avoid deadlocks...\n",
      "To disable this warning, you can either:\n",
      "\t- Avoid using `tokenizers` before the fork if possible\n",
      "\t- Explicitly set the environment variable TOKENIZERS_PARALLELISM=(true | false)\n"
     ]
    },
    {
     "data": {
      "image/png": "[encoded data removed]",
      "text/plain": [
       "<Figure size 640x480 with 1 Axes>"
      ]
     },
     "metadata": {},
     "output_type": "display_data"
    }
   ],
   "source": [
    "import matplotlib.pyplot as plt\n",
    "plt.bar(range(len(scaled_vector)), scaled_vector.flatten())\n",
    "plt.show()\n"
   ]
  },
  {
   "cell_type": "code",
   "execution_count": 24,
   "id": "03ca7e7c-4b47-4652-9b46-a40b3dffa5e6",
   "metadata": {
    "height": 98
   },
   "outputs": [
    {
     "name": "stderr",
     "output_type": "stream",
     "text": [
      "100%|██████████| 15/15 [00:09<00:00,  1.52it/s]\n",
      "100%|██████████| 15/15 [00:10<00:00,  1.41it/s]\n"
     ]
    }
   ],
   "source": [
    "query_embeddings = embedding_function(generated_queries)\n",
    "adapted_query_embeddings = np.matmul(best_matrix, np.array(query_embeddings).T).T\n",
    "\n",
    "projected_query_embeddings = project_embeddings(query_embeddings, umap_transform)\n",
    "projected_adapted_query_embeddings = project_embeddings(adapted_query_embeddings, umap_transform)"
   ]
  },
  {
   "cell_type": "code",
   "execution_count": 25,
   "id": "f74e7d67-7f51-41c4-8e25-edbaa02d0bd8",
   "metadata": {
    "height": 183
   },
   "outputs": [
    {
     "data": {
      "text/plain": [
       "<matplotlib.legend.Legend at 0x7fa0d0d6fa30>"
      ]
     },
     "execution_count": 25,
     "metadata": {},
     "output_type": "execute_result"
    },
    {
     "data": {
      "image/png": "[encoded data removed]",
      "text/plain": [
       "<Figure size 640x480 with 1 Axes>"
      ]
     },
     "metadata": {},
     "output_type": "display_data"
    }
   ],
   "source": [
    "# Plot the projected query and retrieved documents in the embedding space\n",
    "plt.figure()\n",
    "plt.scatter(projected_dataset_embeddings[:, 0], projected_dataset_embeddings[:, 1], s=10, color='gray')\n",
    "plt.scatter(projected_query_embeddings[:, 0], projected_query_embeddings[:, 1], s=150, marker='X', color='r', label=\"original\")\n",
    "plt.scatter(projected_adapted_query_embeddings[:, 0], projected_adapted_query_embeddings[:, 1], s=150, marker='X', color='green', label=\"adapted\")\n",
    "\n",
    "plt.gca().set_aspect('equal', 'datalim')\n",
    "plt.title(\"Adapted Queries\")\n",
    "plt.axis('off')\n",
    "plt.legend()"
   ]
  },
  {
   "cell_type": "code",
   "execution_count": null,
   "id": "9188e886-d406-406f-b234-f5c3353a77a2",
   "metadata": {
    "height": 30
   },
   "outputs": [],
   "source": []
  },
  {
   "cell_type": "code",
   "execution_count": null,
   "id": "3d3bb286-2694-4ed4-8466-46865e997ced",
   "metadata": {
    "height": 30
   },
   "outputs": [],
   "source": []
  },
  {
   "cell_type": "code",
   "execution_count": null,
   "id": "2876084b-4038-4b0c-8ec8-8294a86adfc1",
   "metadata": {
    "height": 30
   },
   "outputs": [],
   "source": []
  },
  {
   "cell_type": "code",
   "execution_count": null,
   "id": "3ac542e1-b094-431f-9611-cf7e36d3f0de",
   "metadata": {
    "height": 30
   },
   "outputs": [],
   "source": []
  },
  {
   "cell_type": "code",
   "execution_count": null,
   "id": "bcd6114b-c09d-4173-a623-9a08aaf63e4b",
   "metadata": {
    "height": 30
   },
   "outputs": [],
   "source": []
  },
  {
   "cell_type": "code",
   "execution_count": null,
   "id": "ad10ab65-b351-4f4b-b7d2-63474acfb9f9",
   "metadata": {
    "height": 30
   },
   "outputs": [],
   "source": []
  },
  {
   "cell_type": "code",
   "execution_count": null,
   "id": "800f3d81-cbdb-4ba4-8d49-85747fdfded8",
   "metadata": {
    "height": 30
   },
   "outputs": [],
   "source": []
  },
  {
   "cell_type": "code",
   "execution_count": null,
   "id": "37847448-c9f6-4f51-bf06-f7809964a8b2",
   "metadata": {
    "height": 30
   },
   "outputs": [],
   "source": []
  },
  {
   "cell_type": "code",
   "execution_count": null,
   "id": "2dcefc87-0964-4b94-946b-2145781ad606",
   "metadata": {
    "height": 30
   },
   "outputs": [],
   "source": []
  },
  {
   "cell_type": "code",
   "execution_count": null,
   "id": "5fc994bc-7b1e-476a-9df9-300a3e374882",
   "metadata": {
    "height": 30
   },
   "outputs": [],
   "source": []
  },
  {
   "cell_type": "code",
   "execution_count": null,
   "id": "9ef5f5d5-acb7-4b0a-93ef-e61306708e69",
   "metadata": {
    "height": 30
   },
   "outputs": [],
   "source": []
  },
  {
   "cell_type": "code",
   "execution_count": null,
   "id": "44e4b33f-d8fb-4f3a-b884-8b43a3766583",
   "metadata": {
    "height": 30
   },
   "outputs": [],
   "source": []
  },
  {
   "cell_type": "code",
   "execution_count": null,
   "id": "c2a480a2-2c29-4a01-80dd-ee41934b7901",
   "metadata": {
    "height": 30
   },
   "outputs": [],
   "source": []
  },
  {
   "cell_type": "code",
   "execution_count": null,
   "id": "8127c2bf-0d15-4b62-b46a-f7a17ad2ec92",
   "metadata": {
    "height": 30
   },
   "outputs": [],
   "source": []
  },
  {
   "cell_type": "code",
   "execution_count": null,
   "id": "18ded129-a637-4269-a116-550fe9a90570",
   "metadata": {
    "height": 30
   },
   "outputs": [],
   "source": []
  },
  {
   "cell_type": "code",
   "execution_count": null,
   "id": "c1d7ee44-7b29-483f-a3f2-cc9d8e18880e",
   "metadata": {
    "height": 30
   },
   "outputs": [],
   "source": []
  },
  {
   "cell_type": "code",
   "execution_count": null,
   "id": "8e450dd8-9719-42c6-8c3c-33cac910e0a5",
   "metadata": {
    "height": 30
   },
   "outputs": [],
   "source": []
  }
 ],
 "metadata": {
  "kernelspec": {
   "display_name": "Python 3 (ipykernel)",
   "language": "python",
   "name": "python3"
  },
  "language_info": {
   "codemirror_mode": {
    "name": "ipython",
    "version": 3
   },
   "file_extension": ".py",
   "mimetype": "text/x-python",
   "name": "python",
   "nbconvert_exporter": "python",
   "pygments_lexer": "ipython3",
   "version": "3.9.19"
  }
 },
 "nbformat": 4,
 "nbformat_minor": 5
}
